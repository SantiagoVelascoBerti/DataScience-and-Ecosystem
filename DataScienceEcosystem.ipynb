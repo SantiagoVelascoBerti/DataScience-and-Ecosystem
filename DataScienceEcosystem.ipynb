{
  "metadata": {
    "language_info": {
      "codemirror_mode": {
        "name": "python",
        "version": 3
      },
      "file_extension": ".py",
      "mimetype": "text/x-python",
      "name": "python",
      "nbconvert_exporter": "python",
      "pygments_lexer": "ipython3",
      "version": "3.8"
    },
    "kernelspec": {
      "name": "python",
      "display_name": "Pyolite",
      "language": "python"
    }
  },
  "nbformat_minor": 4,
  "nbformat": 4,
  "cells": [
    {
      "cell_type": "markdown",
      "source": "# Data Science Tools and Ecosystem # ",
      "metadata": {}
    },
    {
      "cell_type": "markdown",
      "source": "In this notebook, Data Science Tools and EcoSystem are summarized.",
      "metadata": {}
    },
    {
      "cell_type": "markdown",
      "source": "Some of the popular languages that Data Scientists use are: \n1. Python \n2. SQL \n3. R",
      "metadata": {}
    },
    {
      "cell_type": "markdown",
      "source": "Some of the commonly used libraries used by Data Scientists include: \n- Scikit learn \n- Pytorch\n- Tensor Flow ",
      "metadata": {}
    },
    {
      "cell_type": "markdown",
      "source": " |Data Science Tools|\n |------------------|\n | TensorFlow|\n | Tableu|\n | Excel|",
      "metadata": {}
    },
    {
      "cell_type": "markdown",
      "source": "### Below is an example of evalauting arithmetic expressions in Python: \n",
      "metadata": {}
    },
    {
      "cell_type": "markdown",
      "source": "# This is a simple arithemtic expression to muliply then add integers: ",
      "metadata": {}
    },
    {
      "cell_type": "code",
      "source": "(3*4)+5",
      "metadata": {
        "trusted": true
      },
      "execution_count": 8,
      "outputs": [
        {
          "execution_count": 8,
          "output_type": "execute_result",
          "data": {
            "text/plain": "17"
          },
          "metadata": {}
        }
      ]
    },
    {
      "cell_type": "code",
      "source": "def minutes_to_hours (minutes): \n    hours = int(minutes/60)\n    return hours \n\nminutes_to_hours (200)\n\n",
      "metadata": {
        "trusted": true
      },
      "execution_count": 13,
      "outputs": [
        {
          "execution_count": 13,
          "output_type": "execute_result",
          "data": {
            "text/plain": "3"
          },
          "metadata": {}
        }
      ]
    },
    {
      "cell_type": "markdown",
      "source": "__Objectives:__\n- List popular languages for Data Science\n- Create a Python function\n- Evaluate an arithmetic expression \n- List popular Data Science languages",
      "metadata": {}
    },
    {
      "cell_type": "markdown",
      "source": "## Author ## \nSantiago Velasco ",
      "metadata": {}
    },
    {
      "cell_type": "code",
      "source": "",
      "metadata": {},
      "execution_count": null,
      "outputs": []
    }
  ]
}